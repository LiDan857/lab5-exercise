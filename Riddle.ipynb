{
 "cells": [
  {
   "cell_type": "code",
   "execution_count": null,
   "metadata": {},
   "outputs": [],
   "source": [
    "name = input(\"What is your name? \")\n",
    "for n in range(3):\n",
    "    riddle_guess = input(\"Why was 6 afraid of 7? \")\n",
    "    riddle_answer = \"7 ate 9\"\n",
    "    if riddle_guess == \"789\":\n",
    "        riddle_guess = \"7 ate 9\"\n",
    "    if riddle_guess == riddle_answer:\n",
    "        print(\"Congradulations \" + name + \" you got the right answer.\" )\n",
    "        break\n",
    "    else:\n",
    "        print(\"Wrong answer\")"
   ]
  }
 ],
 "metadata": {
  "kernelspec": {
   "display_name": "Python 3",
   "language": "python",
   "name": "python3"
  },
  "language_info": {
   "codemirror_mode": {
    "name": "ipython",
    "version": 3
   },
   "file_extension": ".py",
   "mimetype": "text/x-python",
   "name": "python",
   "nbconvert_exporter": "python",
   "pygments_lexer": "ipython3",
   "version": "3.8.3"
  }
 },
 "nbformat": 4,
 "nbformat_minor": 4
}
